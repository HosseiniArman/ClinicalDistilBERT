{
 "cells": [
  {
   "cell_type": "code",
   "execution_count": null,
   "metadata": {},
   "outputs": [],
   "source": [
    "import transformers as ts\n",
    "from datasets import load_from_disk\n",
    "\n",
    "def load_and_tokenize_data(dataset_path, model_path):\n",
    "    \"\"\"\n",
    "    Load dataset from disk and tokenize using a given model path.\n",
    "\n",
    "    Args:\n",
    "        dataset_path (str): Path to the preprocessed dataset.\n",
    "        model_path (str): Path to the pretrained model.\n",
    "\n",
    "    Returns:\n",
    "        dataset: The tokenized dataset.\n",
    "        tokenizer: The tokenizer used for tokenization.\n",
    "    \"\"\"\n",
    "    print(f\"Loading dataset from {dataset_path}...\")\n",
    "    dataset = load_from_disk(dataset_path)\n",
    "    print(f\"Loaded dataset with {len(dataset)} entries.\")\n",
    "\n",
    "    print(f\"Initializing tokenizer from {model_path}...\")\n",
    "    tokenizer = ts.AutoTokenizer.from_pretrained(model_path)\n",
    "\n",
    "    return dataset, tokenizer\n",
    "\n"
   ]
  }
 ],
 "metadata": {
  "language_info": {
   "name": "python"
  }
 },
 "nbformat": 4,
 "nbformat_minor": 2
}
